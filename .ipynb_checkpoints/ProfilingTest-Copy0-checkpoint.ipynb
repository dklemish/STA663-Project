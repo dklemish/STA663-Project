{
 "metadata": {
  "name": "",
  "signature": "sha256:342845be5ae6e740ede073a44679504c0d0c324b68dd020de787a74dfc97fd83"
 },
 "nbformat": 3,
 "nbformat_minor": 0,
 "worksheets": [
  {
   "cells": [
    {
     "cell_type": "code",
     "collapsed": false,
     "input": [
      "import bhc"
     ],
     "language": "python",
     "metadata": {},
     "outputs": [],
     "prompt_number": 1
    },
    {
     "cell_type": "code",
     "collapsed": false,
     "input": [
      "texts = [open('Text1.txt', 'r').read().replace('\\r\\n', ' '), \n",
      "         open('Text2.txt', 'r').read().replace('\\r\\n', ' '),\n",
      "         open('Text3.txt', 'r').read().replace('\\r\\n', ' '),\n",
      "         open('Text4.txt', 'r').read().replace('\\r\\n', ' '),\n",
      "         open('Text5.txt', 'r').read().replace('\\r\\n', ' '),\n",
      "         open('Text6.txt', 'r').read().replace('\\r\\n', ' '),\n",
      "         open('Text7.txt', 'r').read().replace('\\r\\n', ' '),\n",
      "         open('Text8.txt', 'r').read().replace('\\r\\n', ' '),\n",
      "         open('Text9.txt', 'r').read().replace('\\r\\n', ' '),\n",
      "         open('Text10.txt', 'r').read().replace('\\r\\n', ' '),\n",
      "         open('Text11.txt', 'r').read().replace('\\r\\n', ' '),\n",
      "         open('Text12.txt', 'r').read().replace('\\r\\n', ' '),\n",
      "         open('Text13.txt', 'r').read().replace('\\r\\n', ' '),\n",
      "         open('Text14.txt', 'r').read().replace('\\r\\n', ' '),\n",
      "         open('Text15.txt', 'r').read().replace('\\r\\n', ' '),\n",
      "         open('Text16.txt', 'r').read().replace('\\r\\n', ' '),\n",
      "         open('Text17.txt', 'r').read().replace('\\r\\n', ' ')]\n",
      "\n",
      "text_words, data = bhc.create_word_matrix(texts)\n",
      "#print text_words\n",
      "#print data\n",
      "print len(text_words)"
     ],
     "language": "python",
     "metadata": {},
     "outputs": [
      {
       "output_type": "stream",
       "stream": "stdout",
       "text": [
        "9592\n"
       ]
      }
     ],
     "prompt_number": 2
    },
    {
     "cell_type": "code",
     "collapsed": false,
     "input": [
      "stats = %prun -r -q junk = bhc.BHCmultinomial(texts, 1, 1)"
     ],
     "language": "python",
     "metadata": {},
     "outputs": [
      {
       "output_type": "stream",
       "stream": "stdout",
       "text": [
        " "
       ]
      }
     ],
     "prompt_number": 3
    },
    {
     "cell_type": "code",
     "collapsed": false,
     "input": [
      "stats.sort_stats('time').print_stats(10);"
     ],
     "language": "python",
     "metadata": {},
     "outputs": [
      {
       "output_type": "stream",
       "stream": "stdout",
       "text": [
        "         7153303 function calls in 25.408 seconds\n",
        "\n",
        "   Ordered by: internal time\n",
        "   List reduced from 36 to 10 due to restriction <10>\n",
        "\n",
        "   ncalls  tottime  percall  cumtime  percall filename:lineno(function)\n",
        "   153472   20.008    0.000   20.008    0.000 {method 'count' of 'list' objects}\n",
        "      711    3.336    0.005    5.221    0.007 bhc.py:9(__init__)\n",
        "  6984399    1.034    0.000    1.034    0.000 {math.lgamma}\n",
        "     2167    0.816    0.000    0.816    0.000 {sum}\n",
        "        1    0.082    0.082   20.140   20.140 bhc.py:77(create_word_matrix)\n",
        "      862    0.038    0.000    0.038    0.000 {range}\n",
        "      695    0.024    0.000    5.046    0.007 bhc.py:35(merge_nodes)\n",
        "       64    0.018    0.000    0.018    0.000 {method 'split' of 'str' objects}\n",
        "       16    0.014    0.001    0.014    0.001 sets.py:341(_update)\n",
        "        1    0.011    0.011   25.408   25.408 bhc.py:109(BHCmultinomial)\n",
        "\n",
        "\n"
       ]
      }
     ],
     "prompt_number": 4
    },
    {
     "cell_type": "code",
     "collapsed": false,
     "input": [],
     "language": "python",
     "metadata": {},
     "outputs": []
    }
   ],
   "metadata": {}
  }
 ]
}