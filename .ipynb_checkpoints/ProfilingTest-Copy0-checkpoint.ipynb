{
 "metadata": {
  "name": "",
  "signature": "sha256:7ef44d57508ab9da9240fc026e288c2ceb735534ddf97839825b892fa6264304"
 },
 "nbformat": 3,
 "nbformat_minor": 0,
 "worksheets": [
  {
   "cells": [
    {
     "cell_type": "code",
     "collapsed": false,
     "input": [
      "import bhc"
     ],
     "language": "python",
     "metadata": {},
     "outputs": [],
     "prompt_number": 1
    },
    {
     "cell_type": "code",
     "collapsed": false,
     "input": [
      "texts = [open('Text1.txt', 'r').read().replace('\\r\\n', ' '), \n",
      "         open('Text2.txt', 'r').read().replace('\\r\\n', ' '),\n",
      "         open('Text3.txt', 'r').read().replace('\\r\\n', ' '),\n",
      "         open('Text4.txt', 'r').read().replace('\\r\\n', ' '),\n",
      "         open('Text5.txt', 'r').read().replace('\\r\\n', ' '),\n",
      "         open('Text6.txt', 'r').read().replace('\\r\\n', ' '),\n",
      "         open('Text7.txt', 'r').read().replace('\\r\\n', ' '),\n",
      "         open('Text8.txt', 'r').read().replace('\\r\\n', ' '),\n",
      "         open('Text9.txt', 'r').read().replace('\\r\\n', ' '),\n",
      "         open('Text10.txt', 'r').read().replace('\\r\\n', ' '),\n",
      "         open('Text11.txt', 'r').read().replace('\\r\\n', ' '),\n",
      "         open('Text12.txt', 'r').read().replace('\\r\\n', ' '),\n",
      "         open('Text13.txt', 'r').read().replace('\\r\\n', ' '),\n",
      "         open('Text14.txt', 'r').read().replace('\\r\\n', ' '),\n",
      "         open('Text15.txt', 'r').read().replace('\\r\\n', ' '),\n",
      "         open('Text16.txt', 'r').read().replace('\\r\\n', ' ')]\n",
      "\n",
      "text_words, data = bhc.create_word_matrix(texts)\n",
      "#print text_words\n",
      "#print data\n",
      "print len(text_words)"
     ],
     "language": "python",
     "metadata": {},
     "outputs": [
      {
       "ename": "NameError",
       "evalue": "name 'bhc' is not defined",
       "output_type": "pyerr",
       "traceback": [
        "\u001b[1;31m---------------------------------------------------------------------------\u001b[0m\n\u001b[1;31mNameError\u001b[0m                                 Traceback (most recent call last)",
        "\u001b[1;32m<ipython-input-1-1c8af8e60859>\u001b[0m in \u001b[0;36m<module>\u001b[1;34m()\u001b[0m\n\u001b[0;32m     16\u001b[0m          open('Text16.txt', 'r').read().replace('\\r\\n', ' ')]\n\u001b[0;32m     17\u001b[0m \u001b[1;33m\u001b[0m\u001b[0m\n\u001b[1;32m---> 18\u001b[1;33m \u001b[0mtext_words\u001b[0m\u001b[1;33m,\u001b[0m \u001b[0mdata\u001b[0m \u001b[1;33m=\u001b[0m \u001b[0mbhc\u001b[0m\u001b[1;33m.\u001b[0m\u001b[0mcreate_word_matrix\u001b[0m\u001b[1;33m(\u001b[0m\u001b[0mtexts\u001b[0m\u001b[1;33m)\u001b[0m\u001b[1;33m\u001b[0m\u001b[0m\n\u001b[0m\u001b[0;32m     19\u001b[0m \u001b[1;31m#print text_words\u001b[0m\u001b[1;33m\u001b[0m\u001b[1;33m\u001b[0m\u001b[0m\n\u001b[0;32m     20\u001b[0m \u001b[1;31m#print data\u001b[0m\u001b[1;33m\u001b[0m\u001b[1;33m\u001b[0m\u001b[0m\n",
        "\u001b[1;31mNameError\u001b[0m: name 'bhc' is not defined"
       ]
      }
     ],
     "prompt_number": 1
    },
    {
     "cell_type": "code",
     "collapsed": false,
     "input": [
      "stats = %prun -r -q junk = bhc.BHCmultinomial(texts, 1, 1)"
     ],
     "language": "python",
     "metadata": {},
     "outputs": []
    },
    {
     "cell_type": "code",
     "collapsed": false,
     "input": [
      "stats.sort_stats('time').print_stats(10);"
     ],
     "language": "python",
     "metadata": {},
     "outputs": [
      {
       "output_type": "stream",
       "stream": "stdout",
       "text": [
        "         1668180 function calls in 1.729 seconds\n",
        "\n",
        "   Ordered by: internal time\n",
        "   List reduced from 36 to 10 due to restriction <10>\n",
        "\n",
        "   ncalls  tottime  percall  cumtime  percall filename:lineno(function)\n",
        "      589    0.770    0.001    1.212    0.002 bhc.py:9(__init__)\n",
        "    40020    0.475    0.000    0.475    0.000 {method 'count' of 'list' objects}\n",
        "  1615319    0.246    0.000    0.246    0.000 {math.lgamma}\n",
        "     1799    0.186    0.000    0.186    0.000 {sum}\n",
        "        1    0.018    0.018    0.500    0.500 bhc.py:77(create_word_matrix)\n",
        "      723    0.009    0.000    0.009    0.000 {range}\n",
        "      574    0.009    0.000    1.164    0.002 bhc.py:35(merge_nodes)\n",
        "        1    0.004    0.004    1.729    1.729 bhc.py:109(BHCmultinomial)\n",
        "      560    0.002    0.000    1.138    0.002 bhc.py:63(calc_probability)\n",
        "        1    0.002    0.002    0.002    0.002 {numpy.core.multiarray.array}\n",
        "\n",
        "\n"
       ]
      }
     ],
     "prompt_number": 7
    },
    {
     "cell_type": "code",
     "collapsed": false,
     "input": [
      "bhc.draw_dendrogram(junk,cutoff=0.5)"
     ],
     "language": "python",
     "metadata": {},
     "outputs": [],
     "prompt_number": 9
    },
    {
     "cell_type": "code",
     "collapsed": false,
     "input": [
      "from IPython.display import Image\n",
      "\n",
      "Image(filename='clusters.png')"
     ],
     "language": "python",
     "metadata": {},
     "outputs": [
      {
       "metadata": {},
       "output_type": "pyout",
       "png": "[encoded data removed]",
       "prompt_number": 10,
       "text": [
        "<IPython.core.display.Image at 0x7f5df35e6250>"
       ]
      }
     ],
     "prompt_number": 10
    },
    {
     "cell_type": "code",
     "collapsed": false,
     "input": [],
     "language": "python",
     "metadata": {},
     "outputs": []
    }
   ],
   "metadata": {}
  }
 ]
}