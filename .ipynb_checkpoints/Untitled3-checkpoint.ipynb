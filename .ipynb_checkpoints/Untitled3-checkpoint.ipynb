{
 "metadata": {
  "name": "",
  "signature": "sha256:180ff25f8ae63b29923830408e1bb2bd857ce02af52294e5f4e7ce2bcbb6714d"
 },
 "nbformat": 3,
 "nbformat_minor": 0,
 "worksheets": [
  {
   "cells": [
    {
     "cell_type": "code",
     "collapsed": false,
     "input": [
      "import math\n",
      "import numpy as np\n",
      "import operator as op\n",
      "from sets import Set\n",
      "from string import punctuation\n",
      "#import scipy as sc\n",
      "#from collections import Counter\n",
      "#from collections import defaultdict"
     ],
     "language": "python",
     "metadata": {},
     "outputs": [],
     "prompt_number": 1
    },
    {
     "cell_type": "code",
     "collapsed": false,
     "input": [
      "class clusterNode:\n",
      "    def __init__(self,beta_fac,left=None,right=None,ID=None,x=None,n=1,d=1,beta=1,pi=1,r=0,ml=None,log_const=None):\n",
      "        self.left  = left  # pointer down to left node\n",
      "        self.right = right # pointer down to right node\n",
      "        self.ID    = ID    # node ID\n",
      "        self.x     = x     # total counts of each word across all points in cluster\n",
      "        self.n     = n     # number of data points in node\n",
      "        self.d     = d     #\n",
      "        self.pi    = pi    # prior probability of merging\n",
      "        self.r     = r     # posterior probability of merging\n",
      "        \n",
      "        # Normalizing constant\n",
      "        if log_const is None:\n",
      "            self.log_const = [np.log(math.factorial(sum(x))) - sum([np.log(math.factorial(elem)) for elem in self.x])]\n",
      "        else:\n",
      "            self.log_const = log_const\n",
      "        \n",
      "        # Marginal likelihood of data in cluster\n",
      "        #print \"beta_fac =\", beta_fac\n",
      "        #print \"log_const = \", self.log_const\n",
      "        #print \"x =\", [x[j] for j in range(0, len(self.x))]\n",
      "        #print \"num =\", reduce(op.mul, [math.gamma(beta+x[j]) for j in range(0,len(self.x))], 1)\n",
      "        #print \"denom =\", math.gamma(sum(self.x)+len(self.x)*beta)\n",
      "        if ml is None:\n",
      "            self.ml = (beta_fac * np.exp(sum(self.log_const)) * \n",
      "                       reduce(op.mul, [math.gamma(beta+x[j]) for j in range(0,len(self.x))], 1) / \n",
      "                       math.gamma(sum(self.x)+len(self.x)*beta))\n",
      "        \n",
      "        \n",
      "    def __str__(self):\n",
      "        return \"ID=%s\\nx=%s\\nn=%s\\nd=%s\\npi=%s\\nml=%s\\nr=%s\" % (self.ID, self.x, self.n, self.d, self.pi, self.ml, self.r)"
     ],
     "language": "python",
     "metadata": {},
     "outputs": [],
     "prompt_number": 2
    },
    {
     "cell_type": "code",
     "collapsed": false,
     "input": [
      "def merge_nodes(c1, c2, alp, beta_fac, r, new_ID):\n",
      "    x_k = c1.x + c2.x\n",
      "    n_k = c1.n + c2.n\n",
      "    temp = alp*math.gamma(n_k) \n",
      "    d_k = temp + c1.d * c2.d\n",
      "    pi_k = temp / d_k\n",
      "    log_const_k = c1.log_const + c2.log_const\n",
      "    \n",
      "    return clusterNode(beta_fac=beta_fac,\n",
      "                       left=c1, \n",
      "                       right=c2, \n",
      "                       ID=new_ID, \n",
      "                       x=x_k, \n",
      "                       r=r,\n",
      "                       n=n_k,\n",
      "                       d=d_k,\n",
      "                       pi=pi_k,\n",
      "                       log_const = log_const_k)"
     ],
     "language": "python",
     "metadata": {},
     "outputs": [],
     "prompt_number": 3
    },
    {
     "cell_type": "code",
     "collapsed": false,
     "input": [
      "def calc_probability(c1, c2, alp, beta_fac):\n",
      "    temp_node = merge_nodes(c1, c2, alp, beta_fac, r=0, new_ID=-1)\n",
      "    pi_k = temp_node.pi\n",
      "    \n",
      "    #print \"pi_k =\", pi_k\n",
      "    #print \"new node ml =\", temp_node.ml\n",
      "    #print \"left ml =\", c1.ml\n",
      "    #print \"right ml =\", c2.ml\n",
      "    \n",
      "    return (pi_k * temp_node.ml) / (pi_k * temp_node.ml + (1-pi_k)*c1.ml*c2.ml)"
     ],
     "language": "python",
     "metadata": {},
     "outputs": [],
     "prompt_number": 1
    },
    {
     "cell_type": "code",
     "collapsed": false,
     "input": [
      "def create_word_matrix(docs):\n",
      "    # Define stop words to remove from documents, since these words have little lexographic \n",
      "    # information.  This list is taken from Python's NLTK english stopwords.\n",
      "    stopWords = ['i', 'me', 'my', 'myself', 'we', 'our', 'ours', 'ourselves', 'you', 'your', 'yours', \n",
      "                 'yourself', 'yourselves', 'he', 'him', 'his', 'himself', 'she', 'her', 'hers', \n",
      "                 'herself', 'it', 'its', 'itself', 'they', 'them', 'their', 'theirs', 'themselves', \n",
      "                 'what', 'which', 'who', 'whom', 'this', 'that', 'these', 'those', 'am', 'is', 'are', \n",
      "                 'was', 'were', 'be', 'been', 'being', 'have', 'has', 'had', 'having', 'do', 'does', \n",
      "                 'did', 'doing', 'a', 'an', 'the', 'and', 'but', 'if', 'or', 'because', 'as', 'until', \n",
      "                 'while', 'of', 'at', 'by', 'for', 'with', 'about', 'against', 'between', 'into', \n",
      "                 'through', 'during', 'before', 'after', 'above', 'below', 'to', 'from', 'up', 'down', \n",
      "                 'in', 'out', 'on', 'off', 'over', 'under', 'again', 'further', 'then', 'once', 'here', \n",
      "                 'there', 'when', 'where', 'why', 'how', 'all', 'any', 'both', 'each', 'few', 'more', \n",
      "                 'most', 'other', 'some', 'such', 'no', 'nor', 'not', 'only', 'own', 'same', 'so', \n",
      "                 'than', 'too', 'very', 's', 't', 'can', 'will', 'just', 'don', 'should', 'now']\n",
      "    \n",
      "    # Create list of words\n",
      "    # First split possessive (\"Bill's) into separate 's' for later removal with stopWords\n",
      "    # Then update set of words for each word in consecutive document\n",
      "    words = Set()\n",
      "    [words.update(new_doc) for doc in docs for new_doc in [str(doc.split(\"'\")).translate(None,punctuation).lower().split()]]\n",
      "\n",
      "    # Remove stop words from set of words found in all documents\n",
      "    [words.discard(w) for w in stopWords]\n",
      "    \n",
      "    # Create array where each row contains the count of \n",
      "    # each unique word from all documents\n",
      "    words = sorted(list(words))\n",
      "    return (words, \n",
      "            np.array([[item.count(w) for w in words] for doc in docs for item in [str(doc.split(\"'\")).translate(None,punctuation).lower().split()]]))"
     ],
     "language": "python",
     "metadata": {},
     "outputs": [],
     "prompt_number": 5
    },
    {
     "cell_type": "code",
     "collapsed": false,
     "input": [
      "def BHCmultinomial(texts, alpha, beta):\n",
      "    possible_merge = {}\n",
      "    R = {}\n",
      "    currentclustid = -1\n",
      "    \n",
      "    # Convert text data into \"bag of words\" n x p matrix with n documents \n",
      "    # and p different words contained in all documents\n",
      "    \n",
      "    words, word_data = create_word_matrix(texts)\n",
      "\n",
      "    # Calculate factor that is a function of the beta prior\n",
      "    p = len(words)\n",
      "    BetaFac = math.gamma(sum(beta*np.ones(p))) / reduce(op.mul, [math.gamma(beta) for i in np.arange(p)], 1)\n",
      "    \n",
      "    print BetaFac\n",
      "    \n",
      "    # clusters are initially just the individual rows\n",
      "    clust = [clusterNode(beta_fac = BetaFac, \n",
      "                         x = word_data[i], \n",
      "                         ID = i, \n",
      "                         d = alpha,\n",
      "                         beta = beta) for i in range(len(data))]\n",
      "    \n",
      "    while len(clust)>1:\n",
      "        closest = float(\"-inf\")\n",
      "\n",
      "        # loop through every pair looking for the smallest distance\n",
      "        for i in range(len(clust)):\n",
      "            for j in range(i+1,len(clust)):\n",
      "                # R is the cache of probability calculations\n",
      "                if (clust[i].ID,clust[j].ID) not in possible_merge: \n",
      "                    R[(clust[i].ID,clust[j].ID)] = calc_probability(c1 = clust[i], \n",
      "                                                                    c2 = clust[j], \n",
      "                                                                    alp = alpha,\n",
      "                                                                    beta_fac = BetaFac)\n",
      "                    \n",
      "                r_k = R[(clust[i].ID,clust[j].ID)]\n",
      "\n",
      "                print (clust[i].ID,clust[j].ID), r_k\n",
      "                \n",
      "                if r_k > closest:\n",
      "                    closest = r_k\n",
      "                    lowestpair = (i,j)\n",
      "\n",
      "        # create the new cluster\n",
      "        newcluster = merge_nodes(clust[lowestpair[0]], clust[lowestpair[1]],\n",
      "                                 alp=alpha, beta_fac=BetaFac, r = closest,\n",
      "                                 new_ID = currentclustid)\n",
      "\n",
      "        # cluster ids that weren't in the original set are negative\n",
      "        currentclustid-=1\n",
      "        del clust[lowestpair[1]]\n",
      "        del clust[lowestpair[0]]\n",
      "        clust.append(newcluster)\n",
      "\n",
      "    return clust[0]\n",
      "        \n",
      "    #return clust"
     ],
     "language": "python",
     "metadata": {},
     "outputs": [],
     "prompt_number": 6
    },
    {
     "cell_type": "code",
     "collapsed": false,
     "input": [
      "#texts = [str(\"Cat cat cat cat dog dog cat dog cat cat\"), \n",
      "#         str(\"This is neither a hard or difficult cat test using photos!\"),\n",
      "#         str(\"Cat cat cat cat dog dog dog dog\")]\n",
      "\n",
      "texts = [str(\"Cat cat cat\"), \n",
      "         str(\"Dog dog dog\"),\n",
      "         str(\"Cat bird cat\")]\n",
      "\n",
      "\n",
      "text_words, data = create_word_matrix(texts)\n",
      "print text_words\n",
      "print data\n",
      "print len(text_words)"
     ],
     "language": "python",
     "metadata": {},
     "outputs": [
      {
       "output_type": "stream",
       "stream": "stdout",
       "text": [
        "['bird', 'cat', 'dog']\n",
        "[[0 3 0]\n",
        " [0 0 3]\n",
        " [1 2 0]]\n",
        "3\n"
       ]
      }
     ],
     "prompt_number": 7
    },
    {
     "cell_type": "code",
     "collapsed": false,
     "input": [
      "p = len(text_words)\n",
      "beta = 1.00\n",
      "BetaFac = math.gamma(sum(beta*np.ones(p))) / reduce(op.mul, [math.gamma(beta) for i in np.arange(p)], 1)\n",
      "\n",
      "test1 = clusterNode(beta_fac=BetaFac,log_const=None, ID=1, x=data[0], beta=1, d=1)\n",
      "test2 = clusterNode(beta_fac=BetaFac,log_const=None, ID=2, x=data[1], beta=1, d=1)\n",
      "test3 = clusterNode(beta_fac=BetaFac,log_const=None, ID=2, x=data[2], beta=1, d=1)"
     ],
     "language": "python",
     "metadata": {},
     "outputs": [],
     "prompt_number": 8
    },
    {
     "cell_type": "code",
     "collapsed": false,
     "input": [
      "print BetaFac\n",
      "print \n",
      "print test1\n",
      "print \n",
      "print test3"
     ],
     "language": "python",
     "metadata": {},
     "outputs": [
      {
       "output_type": "stream",
       "stream": "stdout",
       "text": [
        "2.0\n",
        "\n",
        "ID=1\n",
        "x=[0 3 0]\n",
        "n=1\n",
        "d=1\n",
        "pi=1\n",
        "ml=0.1\n",
        "r=0\n",
        "\n",
        "ID=2\n",
        "x=[1 2 0]\n",
        "n=1\n",
        "d=1\n",
        "pi=1\n",
        "ml=0.1\n",
        "r=0\n"
       ]
      }
     ],
     "prompt_number": 9
    },
    {
     "cell_type": "code",
     "collapsed": false,
     "input": [
      "print test1.log_const\n",
      "print test2.log_const\n",
      "print test3.log_const\n",
      "print test1.log_const + test2.log_const"
     ],
     "language": "python",
     "metadata": {},
     "outputs": [
      {
       "output_type": "stream",
       "stream": "stdout",
       "text": [
        "[0.0]\n",
        "[0.0]\n",
        "[1.0986122886681096]\n",
        "[0.0, 0.0]\n"
       ]
      }
     ],
     "prompt_number": 10
    },
    {
     "cell_type": "code",
     "collapsed": false,
     "input": [
      "calc_probability(test1, test3, 1, BetaFac)"
     ],
     "language": "python",
     "metadata": {},
     "outputs": [
      {
       "output_type": "stream",
       "stream": "stdout",
       "text": [
        "pi_k = 0.5\n",
        "new node ml = 0.0178571428571\n",
        "left ml = 0.1\n",
        "right ml = 0.1\n"
       ]
      },
      {
       "metadata": {},
       "output_type": "pyout",
       "prompt_number": 12,
       "text": [
        "0.64102564102564097"
       ]
      }
     ],
     "prompt_number": 12
    },
    {
     "cell_type": "code",
     "collapsed": false,
     "input": [
      "test4 = merge_nodes(test1, test3, alp=1, beta_fac=BetaFac, r=calc_probability(test1, test3,alp=1, beta_fac=BetaFac), new_ID=-1)\n",
      "print \n",
      "print test4"
     ],
     "language": "python",
     "metadata": {},
     "outputs": [
      {
       "ename": "NameError",
       "evalue": "name 'merge_nodes' is not defined",
       "output_type": "pyerr",
       "traceback": [
        "\u001b[1;31m---------------------------------------------------------------------------\u001b[0m\n\u001b[1;31mNameError\u001b[0m                                 Traceback (most recent call last)",
        "\u001b[1;32m<ipython-input-3-ca978ad27d25>\u001b[0m in \u001b[0;36m<module>\u001b[1;34m()\u001b[0m\n\u001b[1;32m----> 1\u001b[1;33m \u001b[0mtest4\u001b[0m \u001b[1;33m=\u001b[0m \u001b[0mmerge_nodes\u001b[0m\u001b[1;33m(\u001b[0m\u001b[0mtest1\u001b[0m\u001b[1;33m,\u001b[0m \u001b[0mtest3\u001b[0m\u001b[1;33m,\u001b[0m \u001b[0malp\u001b[0m\u001b[1;33m=\u001b[0m\u001b[1;36m1\u001b[0m\u001b[1;33m,\u001b[0m \u001b[0mbeta_fac\u001b[0m\u001b[1;33m=\u001b[0m\u001b[0mBetaFac\u001b[0m\u001b[1;33m,\u001b[0m \u001b[0mr\u001b[0m\u001b[1;33m=\u001b[0m\u001b[0mcalc_probability\u001b[0m\u001b[1;33m(\u001b[0m\u001b[0mtest1\u001b[0m\u001b[1;33m,\u001b[0m \u001b[0mtest3\u001b[0m\u001b[1;33m,\u001b[0m\u001b[0malp\u001b[0m\u001b[1;33m=\u001b[0m\u001b[1;36m1\u001b[0m\u001b[1;33m,\u001b[0m \u001b[0mbeta_fac\u001b[0m\u001b[1;33m=\u001b[0m\u001b[0mBetaFac\u001b[0m\u001b[1;33m)\u001b[0m\u001b[1;33m,\u001b[0m \u001b[0mnew_ID\u001b[0m\u001b[1;33m=\u001b[0m\u001b[1;33m-\u001b[0m\u001b[1;36m1\u001b[0m\u001b[1;33m)\u001b[0m\u001b[1;33m\u001b[0m\u001b[0m\n\u001b[0m\u001b[0;32m      2\u001b[0m \u001b[1;32mprint\u001b[0m\u001b[1;33m\u001b[0m\u001b[0m\n\u001b[0;32m      3\u001b[0m \u001b[1;32mprint\u001b[0m \u001b[0mtest4\u001b[0m\u001b[1;33m\u001b[0m\u001b[0m\n",
        "\u001b[1;31mNameError\u001b[0m: name 'merge_nodes' is not defined"
       ]
      }
     ],
     "prompt_number": 3
    },
    {
     "cell_type": "code",
     "collapsed": false,
     "input": [
      "test5 = merge_nodes(test1, test2, alp=1, beta_fac=BetaFac, r=calc_probability(test1, test2,alp=1, beta_fac=BetaFac), new_ID=-1)\n",
      "print \n",
      "print test5"
     ],
     "language": "python",
     "metadata": {},
     "outputs": [
      {
       "ename": "NameError",
       "evalue": "name 'merge_nodes' is not defined",
       "output_type": "pyerr",
       "traceback": [
        "\u001b[1;31m---------------------------------------------------------------------------\u001b[0m\n\u001b[1;31mNameError\u001b[0m                                 Traceback (most recent call last)",
        "\u001b[1;32m<ipython-input-2-bc738b50ca59>\u001b[0m in \u001b[0;36m<module>\u001b[1;34m()\u001b[0m\n\u001b[1;32m----> 1\u001b[1;33m \u001b[0mtest5\u001b[0m \u001b[1;33m=\u001b[0m \u001b[0mmerge_nodes\u001b[0m\u001b[1;33m(\u001b[0m\u001b[0mtest1\u001b[0m\u001b[1;33m,\u001b[0m \u001b[0mtest2\u001b[0m\u001b[1;33m,\u001b[0m \u001b[0malp\u001b[0m\u001b[1;33m=\u001b[0m\u001b[1;36m1\u001b[0m\u001b[1;33m,\u001b[0m \u001b[0mbeta_fac\u001b[0m\u001b[1;33m=\u001b[0m\u001b[0mBetaFac\u001b[0m\u001b[1;33m,\u001b[0m \u001b[0mr\u001b[0m\u001b[1;33m=\u001b[0m\u001b[0mcalc_probability\u001b[0m\u001b[1;33m(\u001b[0m\u001b[0mtest1\u001b[0m\u001b[1;33m,\u001b[0m \u001b[0mtest2\u001b[0m\u001b[1;33m,\u001b[0m\u001b[0malp\u001b[0m\u001b[1;33m=\u001b[0m\u001b[1;36m1\u001b[0m\u001b[1;33m,\u001b[0m \u001b[0mbeta_fac\u001b[0m\u001b[1;33m=\u001b[0m\u001b[0mBetaFac\u001b[0m\u001b[1;33m)\u001b[0m\u001b[1;33m,\u001b[0m \u001b[0mnew_ID\u001b[0m\u001b[1;33m=\u001b[0m\u001b[1;33m-\u001b[0m\u001b[1;36m1\u001b[0m\u001b[1;33m)\u001b[0m\u001b[1;33m\u001b[0m\u001b[0m\n\u001b[0m\u001b[0;32m      2\u001b[0m \u001b[1;32mprint\u001b[0m\u001b[1;33m\u001b[0m\u001b[0m\n\u001b[0;32m      3\u001b[0m \u001b[1;32mprint\u001b[0m \u001b[0mtest5\u001b[0m\u001b[1;33m\u001b[0m\u001b[0m\n",
        "\u001b[1;31mNameError\u001b[0m: name 'merge_nodes' is not defined"
       ]
      }
     ],
     "prompt_number": 2
    },
    {
     "cell_type": "code",
     "collapsed": false,
     "input": [
      "test6 = merge_nodes(test2, test3, alp=1, beta_fac=BetaFac, r=calc_probability(test2, test3,alp=1, beta_fac=BetaFac), new_ID=-1)\n",
      "print \n",
      "print test6"
     ],
     "language": "python",
     "metadata": {},
     "outputs": [
      {
       "output_type": "stream",
       "stream": "stdout",
       "text": [
        "beta_fac = 2.0\n",
        "log_const =  [0.0, 1.0986122886681096]\n",
        "x = [1, 2, 3]\n",
        "num = 12.0\n",
        "denom = 40320.0\n",
        "pi_k = 0.5\n",
        "new node ml = 0.00178571428571\n",
        "left ml = 0.1\n",
        "right ml = 0.1\n",
        "beta_fac = 2.0\n",
        "log_const =  [0.0, 1.0986122886681096]\n",
        "x = [1, 2, 3]\n",
        "num = 12.0\n",
        "denom = 40320.0\n",
        "\n",
        "ID=-1\n",
        "x=[1 2 3]\n",
        "n=2\n",
        "d=2.0\n",
        "pi=0.5\n",
        "ml=0.00178571428571\n",
        "r=0.151515151515\n"
       ]
      }
     ],
     "prompt_number": 22
    },
    {
     "cell_type": "code",
     "collapsed": false,
     "input": [
      "test7 = merge_nodes(test4, test2, alp=1, beta_fac=BetaFac, r=calc_probability(test4, test2,alp=1, beta_fac=BetaFac), new_ID=-1)\n",
      "print \n",
      "print test7"
     ],
     "language": "python",
     "metadata": {},
     "outputs": [
      {
       "output_type": "stream",
       "stream": "stdout",
       "text": [
        "beta_fac = 2.0\n",
        "log_const =  [0.0, 1.0986122886681096, 0.0]\n",
        "x = [1, 5, 3]\n",
        "num = 720.0\n",
        "denom = 39916800.0\n",
        "pi_k = 0.5\n",
        "new node ml = 0.000108225108225\n",
        "left ml = 0.0178571428571\n",
        "right ml = 0.1\n",
        "beta_fac = 2.0\n",
        "log_const =  [0.0, 1.0986122886681096, 0.0]\n",
        "x = [1, 5, 3]\n",
        "num = 720.0\n",
        "denom = 39916800.0\n",
        "\n",
        "ID=-1\n",
        "x=[1 5 3]\n",
        "n=3\n",
        "d=4.0\n",
        "pi=0.5\n",
        "ml=0.000108225108225\n",
        "r=0.0571428571429\n"
       ]
      }
     ],
     "prompt_number": 24
    },
    {
     "cell_type": "code",
     "collapsed": false,
     "input": [
      "junk = BHCmultinomial(texts, 1, 1)"
     ],
     "language": "python",
     "metadata": {},
     "outputs": [
      {
       "output_type": "stream",
       "stream": "stdout",
       "text": [
        "2.0\n",
        "pi_k = 0.5\n",
        "new node ml = 0.00178571428571\n",
        "left ml = 0.1\n",
        "right ml = 0.1\n",
        "(0, 1) 0.151515151515\n",
        "pi_k = 0.5\n",
        "new node ml = 0.0178571428571\n",
        "left ml = 0.1\n",
        "right ml = 0.1\n",
        "(0, 2) 0.641025641026\n",
        "pi_k = 0.5\n",
        "new node ml = 0.00178571428571\n",
        "left ml = 0.1\n",
        "right ml = 0.1\n",
        "(1, 2) 0.151515151515\n",
        "pi_k = 0.5\n",
        "new node ml = 0.000108225108225\n",
        "left ml = 0.1\n",
        "right ml = 0.0178571428571\n",
        "(1, -1) 0.0571428571429\n"
       ]
      }
     ],
     "prompt_number": 50
    },
    {
     "cell_type": "code",
     "collapsed": false,
     "input": [
      "print junk"
     ],
     "language": "python",
     "metadata": {},
     "outputs": [
      {
       "output_type": "stream",
       "stream": "stdout",
       "text": [
        "ID=-2\n",
        "x=[1 5 3]\n",
        "n=3\n",
        "d=4.0\n",
        "pi=0.5\n",
        "ml=0.000108225108225\n",
        "r=0.0571428571429\n"
       ]
      }
     ],
     "prompt_number": 28
    },
    {
     "cell_type": "code",
     "collapsed": false,
     "input": [
      "print junk.left"
     ],
     "language": "python",
     "metadata": {},
     "outputs": [
      {
       "output_type": "stream",
       "stream": "stdout",
       "text": [
        "ID=1\n",
        "x=[0 0 3]\n",
        "n=1\n",
        "d=1\n",
        "pi=1\n",
        "ml=0.1\n",
        "r=0\n"
       ]
      }
     ],
     "prompt_number": 29
    },
    {
     "cell_type": "code",
     "collapsed": false,
     "input": [
      "print junk.right"
     ],
     "language": "python",
     "metadata": {},
     "outputs": [
      {
       "output_type": "stream",
       "stream": "stdout",
       "text": [
        "ID=-1\n",
        "x=[1 5 0]\n",
        "n=2\n",
        "d=2.0\n",
        "pi=0.5\n",
        "ml=0.0178571428571\n",
        "r=0.151515151515\n"
       ]
      }
     ],
     "prompt_number": 30
    },
    {
     "cell_type": "code",
     "collapsed": false,
     "input": [
      "print junk.right.left"
     ],
     "language": "python",
     "metadata": {},
     "outputs": [
      {
       "output_type": "stream",
       "stream": "stdout",
       "text": [
        "ID=0\n",
        "x=[0 3 0]\n",
        "n=1\n",
        "d=1\n",
        "pi=1\n",
        "ml=0.1\n",
        "r=0\n"
       ]
      }
     ],
     "prompt_number": 31
    },
    {
     "cell_type": "code",
     "collapsed": false,
     "input": [
      "print junk.right.right"
     ],
     "language": "python",
     "metadata": {},
     "outputs": [
      {
       "output_type": "stream",
       "stream": "stdout",
       "text": [
        "ID=2\n",
        "x=[1 2 0]\n",
        "n=1\n",
        "d=1\n",
        "pi=1\n",
        "ml=0.1\n",
        "r=0\n"
       ]
      }
     ],
     "prompt_number": 32
    },
    {
     "cell_type": "code",
     "collapsed": false,
     "input": [
      "# Code adapted from \"Programming Collective Intelligence\" by Toby Segaran (O'Reilly Media 2007)\n",
      "\n",
      "from PIL import Image,ImageDraw\n",
      "\n",
      "def getheight(clust):\n",
      "    if clust.left == None and clust.right == None:\n",
      "        return 1\n",
      "    else:\n",
      "        return getheight(clust.left) + getheight(clust.right)\n",
      "    \n",
      "def getdepth(clust):\n",
      "    if clust.left == None and clust.right == None:\n",
      "        return 0\n",
      "    else:\n",
      "        return max(getdepth(clust.left),getdepth(clust.right)) + 1\n",
      "    \n",
      "\n",
      "def draw_dendrogram(clust,cutoff,jpeg='clusters.png'):\n",
      "    # height and width\n",
      "    h = getheight(clust)*50\n",
      "    #w = getdepth(clust)*300\n",
      "    #w=1200\n",
      "    w = h\n",
      "    depth=getdepth(clust)\n",
      "\n",
      "    #print h, w, depth\n",
      "    \n",
      "    # width is fixed, so scale distances accordingly\n",
      "    #scaling=float(w-150)/depth\n",
      "    scaling = 5\n",
      "\n",
      "    # Create a new image with a white background\n",
      "    img=Image.new('RGB',(w,h),(255,255,255))\n",
      "    draw=ImageDraw.Draw(img)\n",
      "\n",
      "    if clust.r < cutoff:\n",
      "        col = (255,0,0)\n",
      "    else:\n",
      "        col = (0,0,0)\n",
      "    \n",
      "    draw.line((0,h/2,10,h/2),fill=col)    \n",
      "\n",
      "    # Draw the first node\n",
      "    draw_node(draw,clust,cutoff,10,(h/2),scaling,img)\n",
      "    img.save(jpeg)\n",
      "\n",
      "def draw_node(draw,clust,cutoff,x,y,scaling,img):\n",
      "    if clust.ID<0:\n",
      "        #h1=getheight(clust.left)*20\n",
      "        #h2=getheight(clust.right)*20\n",
      "        h1=getheight(clust.left)*50\n",
      "        h2=getheight(clust.right)*50\n",
      "        top=y-(h1+h2)/2\n",
      "        bottom=y+(h1+h2)/2\n",
      "        # Line length\n",
      "        #ll=clust.distance*scaling\n",
      "        ll=10*scaling\n",
      "        \n",
      "        #print clust.r\n",
      "        if(clust.r < cutoff):\n",
      "            col=(255,0,0)\n",
      "        else:\n",
      "            col=(0,0,0)\n",
      "        \n",
      "        # Vertical line from this cluster to children    \n",
      "        draw.line((x,top+h1/2,x,bottom-h2/2),fill=col)   \n",
      "\n",
      "        # Horizontal line to left item\n",
      "        draw.line((x,top+h1/2,x+ll,top+h1/2),fill=col)    \n",
      "\n",
      "        # Horizontal line to right item\n",
      "        draw.line((x,bottom-h2/2,x+ll,bottom-h2/2),fill=col)\n",
      "\n",
      "        # Call the function to draw the left and right nodes    \n",
      "        draw_node(draw,clust.left,cutoff,x+ll,top+h1/2,scaling,img)\n",
      "        draw_node(draw,clust.right,cutoff,x+ll,bottom-h2/2,scaling,img)\n",
      "    else:   \n",
      "        # If this is an endpoint, write the cluster ID onto the image\n",
      "        draw.text((x+5,y-5),str(clust.ID),fill=(0,0,0))"
     ],
     "language": "python",
     "metadata": {},
     "outputs": [],
     "prompt_number": 83
    },
    {
     "cell_type": "code",
     "collapsed": false,
     "input": [
      "draw_dendrogram(junk,cutoff=0.5)"
     ],
     "language": "python",
     "metadata": {},
     "outputs": [],
     "prompt_number": 84
    },
    {
     "cell_type": "code",
     "collapsed": false,
     "input": [
      "from IPython.display import Image\n",
      "\n",
      "Image(filename='clusters.png')"
     ],
     "language": "python",
     "metadata": {},
     "outputs": [
      {
       "metadata": {},
       "output_type": "pyout",
       "png": "[encoded data removed]",
       "prompt_number": 85,
       "text": [
        "<IPython.core.display.Image at 0x7f5e04045110>"
       ]
      }
     ],
     "prompt_number": 85
    },
    {
     "cell_type": "code",
     "collapsed": false,
     "input": [],
     "language": "python",
     "metadata": {},
     "outputs": []
    }
   ],
   "metadata": {}
  }
 ]
}