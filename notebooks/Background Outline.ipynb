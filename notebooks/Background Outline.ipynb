{
 "metadata": {
  "name": "",
  "signature": "sha256:ac609cc3abca6e4cf884ce4c376d98d0035a922a396a4f411d3011d349f05e29"
 },
 "nbformat": 3,
 "nbformat_minor": 0,
 "worksheets": [
  {
   "cells": [
    {
     "cell_type": "markdown",
     "metadata": {},
     "source": [
      "This project implements the Bayesian hierarchical clustering method of Heller and Ghahramani (2005).\n",
      "\n",
      "1. Agglomerative hierarchical clustering takes unclassified data and builds a hierarchical tree structure where \"similar\" data points are grouped into clusters.\n",
      "2. Cluster analysis is used in several fields:\n",
      "    - Document / image classification\n",
      "    - Statistical genetics\n",
      "    - Business market research\n",
      "    - Many others\n",
      "3. Algorithms exist for doing hierarchical clustering.\n",
      "    1. Starts with each data point as its own cluster\n",
      "    2. Each iteration combines two clusters that are judged most similar\n",
      "    3. Several versions which vary by distance metric and linkage criteria (how to determine distance between clusters of points)\n",
      "    4. These methods are deterministic and ad-hoc methods used to determine the optimal number of clusters.\n",
      "4. This paper defines a probabilistic model of the data.  The benefits of this approach are:\n",
      "    1. Predictive distribution for new data; each new data point assigned a probability of belonging to each cluster.\n",
      "    2. Ad-hoc criteria replaced with a Bayesian hypothesis testing approach to decide which merges are appropriate and to recommend depth of the tree.\n",
      "    3. However, for algorithmic efficiency, distributions with conjugate priors must be used as the data generating mechanism within each cluster.\n",
      "        1. Multivariate Gaussians with Normal-Inverse Wishart priors for continuous data.\n",
      "        2. Multinomial with Dirichlet priors for discrete data.\n",
      "5. This project will implement the Bayesian hierachical clustering for continuous data using multivariate Gaussians.\n"
     ]
    },
    {
     "cell_type": "code",
     "collapsed": false,
     "input": [],
     "language": "python",
     "metadata": {},
     "outputs": []
    }
   ],
   "metadata": {}
  }
 ]
}