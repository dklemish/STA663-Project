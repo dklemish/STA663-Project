{
 "metadata": {
  "name": "",
  "signature": "sha256:2b0355618b23b3cff838104f1beb5cd96ca965ff3feb50657f3e3cee058fc939"
 },
 "nbformat": 3,
 "nbformat_minor": 0,
 "worksheets": [
  {
   "cells": [
    {
     "cell_type": "code",
     "collapsed": false,
     "input": [
      "import math\n",
      "import numpy as np\n",
      "import operator as op\n",
      "from sets import Set\n",
      "from string import punctuation\n",
      "#import scipy as sc\n",
      "#from collections import Counter\n",
      "#from collections import defaultdict"
     ],
     "language": "python",
     "metadata": {},
     "outputs": [],
     "prompt_number": 1
    },
    {
     "cell_type": "code",
     "collapsed": false,
     "input": [
      "class clusterNode:\n",
      "    def __init__(self,beta_fac,left=None,right=None,ID=None,x=None,n=1,d=0.001,beta=0.001,pi=1,ml=None,log_const=None):\n",
      "        self.left  = left  # pointer down to left node\n",
      "        self.right = right # pointer down to right node\n",
      "        self.ID    = ID    # node ID\n",
      "        self.x     = x     # total counts of each word across all points in cluster\n",
      "        self.n     = n     # number of data points in node\n",
      "        self.d     = d     #\n",
      "        self.pi    = pi    # prior probability of merging\n",
      "        \n",
      "        # Normalizing constant\n",
      "        if log_const is None:\n",
      "            self.log_const = [np.log(math.factorial(sum(x))) - sum([np.log(math.factorial(elem)) for elem in self.x])]\n",
      "        else:\n",
      "            self.log_const = log_const\n",
      "        \n",
      "        # Marginal likelihood of data in cluster\n",
      "        #print \"beta_fac =\", beta_fac\n",
      "        #print \"x =\", [x[j] for j in range(0, len(self.x))]\n",
      "        #print \"num =\", reduce(op.mul, [math.gamma(beta+x[j]) for j in range(0,len(self.x))], 1)\n",
      "        #print \"denom =\", math.gamma(sum(self.x)+len(self.x)*beta)\n",
      "        if ml is None:\n",
      "            self.ml = (beta_fac * np.exp(sum(self.log_const)) * \n",
      "                       reduce(op.mul, [math.gamma(beta+x[j]) for j in range(0,len(self.x))], 1) / \n",
      "                       math.gamma(sum(self.x)+len(self.x)*beta))\n",
      "        \n",
      "    def __str__(self):\n",
      "        return \"ID=%s\\nx=%s\\nn=%s\\nd=%s\\npi=%s\\nml=%s\" % (self.ID, self.x, self.n, self.d, self.pi, self.ml)"
     ],
     "language": "python",
     "metadata": {},
     "outputs": [],
     "prompt_number": 83
    },
    {
     "cell_type": "code",
     "collapsed": false,
     "input": [
      "def merge_nodes(c1, c2, alp, beta_fac, new_ID):\n",
      "    x_k = c1.x + c2.x\n",
      "    n_k = c1.n + c2.n\n",
      "    temp = alp*math.factorial(n_k) \n",
      "    d_k = temp + c1.d * c2.d\n",
      "    pi_k = temp / d_k\n",
      "    log_const_k = c1.log_const + c2.log_const\n",
      "    \n",
      "    return clusterNode(beta_fac=beta_fac,\n",
      "                       left=c1, \n",
      "                       right=c2, \n",
      "                       ID=new_ID, \n",
      "                       x=x_k, \n",
      "                       n=n_k,\n",
      "                       d=d_k,\n",
      "                       pi=pi_k,\n",
      "                       log_const = log_const_k)"
     ],
     "language": "python",
     "metadata": {},
     "outputs": [],
     "prompt_number": 3
    },
    {
     "cell_type": "code",
     "collapsed": false,
     "input": [
      "def calc_probability(c1, c2, alp, beta_fac):\n",
      "    temp_node = merge_nodes(c1, c2, alp, beta_fac, new_ID=-1)\n",
      "    pi_k = temp_node.pi\n",
      "    \n",
      "    return (pi_k * temp_node.ml) / (pi_k * temp_node.ml + (1-pi_k)*c1.ml*c2.ml)"
     ],
     "language": "python",
     "metadata": {},
     "outputs": [],
     "prompt_number": 4
    },
    {
     "cell_type": "code",
     "collapsed": false,
     "input": [
      "def create_word_matrix(docs):\n",
      "    # Define stop words to remove from documents, since these words have little lexographic \n",
      "    # information.  This list is taken from Python's NLTK english stopwords.\n",
      "    stopWords = ['i', 'me', 'my', 'myself', 'we', 'our', 'ours', 'ourselves', 'you', 'your', 'yours', \n",
      "                 'yourself', 'yourselves', 'he', 'him', 'his', 'himself', 'she', 'her', 'hers', \n",
      "                 'herself', 'it', 'its', 'itself', 'they', 'them', 'their', 'theirs', 'themselves', \n",
      "                 'what', 'which', 'who', 'whom', 'this', 'that', 'these', 'those', 'am', 'is', 'are', \n",
      "                 'was', 'were', 'be', 'been', 'being', 'have', 'has', 'had', 'having', 'do', 'does', \n",
      "                 'did', 'doing', 'a', 'an', 'the', 'and', 'but', 'if', 'or', 'because', 'as', 'until', \n",
      "                 'while', 'of', 'at', 'by', 'for', 'with', 'about', 'against', 'between', 'into', \n",
      "                 'through', 'during', 'before', 'after', 'above', 'below', 'to', 'from', 'up', 'down', \n",
      "                 'in', 'out', 'on', 'off', 'over', 'under', 'again', 'further', 'then', 'once', 'here', \n",
      "                 'there', 'when', 'where', 'why', 'how', 'all', 'any', 'both', 'each', 'few', 'more', \n",
      "                 'most', 'other', 'some', 'such', 'no', 'nor', 'not', 'only', 'own', 'same', 'so', \n",
      "                 'than', 'too', 'very', 's', 't', 'can', 'will', 'just', 'don', 'should', 'now']\n",
      "    \n",
      "    # Create list of words\n",
      "    # First split possessive (\"Bill's) into separate 's' for later removal with stopWords\n",
      "    # Then update set of words for each word in consecutive document\n",
      "    words = Set()\n",
      "    [words.update(new_doc) for doc in docs for new_doc in [str(doc.split(\"'\")).translate(None,punctuation).lower().split()]]\n",
      "\n",
      "    # Remove stop words from set of words found in all documents\n",
      "    [words.discard(w) for w in stopWords]\n",
      "    \n",
      "    # Create array where each row contains the count of \n",
      "    # each unique word from all documents\n",
      "    words = sorted(list(words))\n",
      "    return (words, \n",
      "            np.array([[item.count(w) for w in words] for doc in docs for item in [str(doc.split(\"'\")).translate(None,punctuation).lower().split()]]))"
     ],
     "language": "python",
     "metadata": {},
     "outputs": [],
     "prompt_number": 5
    },
    {
     "cell_type": "code",
     "collapsed": false,
     "input": [
      "beta = 2\n",
      "p = 3\n",
      "\n",
      "print math.gamma(sum(beta*np.ones(p))) \n",
      "print reduce(op.mul, [beta for i in np.arange(p)], 1)\n",
      "print \n",
      "print math.gamma(sum(beta*np.ones(p))) / reduce(op.mul, [beta for i in np.arange(p)], 1)\n"
     ],
     "language": "python",
     "metadata": {},
     "outputs": [
      {
       "output_type": "stream",
       "stream": "stdout",
       "text": [
        "120.0\n",
        "8\n",
        "\n",
        "15.0\n"
       ]
      }
     ],
     "prompt_number": 27
    },
    {
     "cell_type": "code",
     "collapsed": false,
     "input": [
      "def BHCmultinomial(texts, beta, alpha):\n",
      "    possible_merge = {}\n",
      "    R = {}\n",
      "    currentclustid = -1\n",
      "    \n",
      "    # Convert text data into \"bag of words\" n x p matrix with n documents \n",
      "    # and p different words contained in all documents\n",
      "    \n",
      "    words, word_data = create_word_matrix(texts)\n",
      "\n",
      "    # Calculate factor that is a function of the beta prior\n",
      "    p = len(words)\n",
      "    BetaFac = math.gamma(sum(beta*np.ones(p))) / reduce(op.mul, [math.gamma(beta) for i in np.arange(p)], 1)\n",
      "    \n",
      "    print BetaFac\n",
      "    \n",
      "    # clusters are initially just the individual rows\n",
      "    clust = [clusterNode(beta_fac = BetaFac, \n",
      "                         x = word_data[i], \n",
      "                         ID = i, \n",
      "                         d = alpha,\n",
      "                         beta = beta) for i in range(len(data))]\n",
      "    \n",
      "    while len(clust)>1:\n",
      "        closest = float(\"-inf\")\n",
      "\n",
      "        # loop through every pair looking for the smallest distance\n",
      "        for i in range(len(clust)):\n",
      "            for j in range(i+1,len(clust)):\n",
      "                # R is the cache of probability calculations\n",
      "                if (clust[i].ID,clust[j].ID) not in possible_merge: \n",
      "                    possible_merge[(clust[i].ID,clust[j].ID)] = merge_nodes(clust[i],clust[j], alpha, BetaFac, 0)\n",
      "                    R[(clust[i].ID,clust[j].ID)] = possible_merge[(clust[i].ID,clust[j].ID)].pi\n",
      "                    \n",
      "                r_k = R[(clust[i].ID,clust[j].ID)]\n",
      "\n",
      "                print (clust[i].ID,clust[j].ID), r_k\n",
      "                \n",
      "                if r_k > closest:\n",
      "                    closest = r_k\n",
      "                    lowestpair = (i,j)\n",
      "\n",
      "        # create the new cluster\n",
      "        newcluster = merge_nodes(clust[lowestpair[0]], clust[lowestpair[1]],\n",
      "                                 alp=alpha, beta_fac=BetaFac,\n",
      "                                 new_ID = currentclustid)\n",
      "\n",
      "        # cluster ids that weren't in the original set are negative\n",
      "        currentclustid-=1\n",
      "        del clust[lowestpair[1]]\n",
      "        del clust[lowestpair[0]]\n",
      "        clust.append(newcluster)\n",
      "\n",
      "    return clust[0]\n",
      "        \n",
      "    #return clust"
     ],
     "language": "python",
     "metadata": {},
     "outputs": [],
     "prompt_number": 43
    },
    {
     "cell_type": "code",
     "collapsed": false,
     "input": [
      "#texts = [str(\"Cat cat cat cat dog dog cat dog cat cat\"), \n",
      "#         str(\"This is neither a hard or difficult cat test using photos!\"),\n",
      "#         str(\"Cat cat cat cat dog dog dog dog\")]\n",
      "\n",
      "texts = [str(\"Cat cat cat\"), \n",
      "         str(\"Dog dog dog\"),\n",
      "         str(\"Cat bird cat\")]\n",
      "\n",
      "\n",
      "text_words, data = create_word_matrix(texts)\n",
      "print text_words\n",
      "print data\n",
      "print len(text_words)"
     ],
     "language": "python",
     "metadata": {},
     "outputs": [
      {
       "output_type": "stream",
       "stream": "stdout",
       "text": [
        "['bird', 'cat', 'dog']\n",
        "[[0 3 0]\n",
        " [0 0 3]\n",
        " [1 2 0]]\n",
        "3\n"
       ]
      }
     ],
     "prompt_number": 76
    },
    {
     "cell_type": "code",
     "collapsed": false,
     "input": [
      "p = len(text_words)\n",
      "beta = 1.00\n",
      "BetaFac = math.gamma(sum(beta*np.ones(p))) / reduce(op.mul, [math.gamma(beta) for i in np.arange(p)], 1)\n",
      "\n",
      "test1 = clusterNode(beta_fac=BetaFac,log_const=None, ID=1, x=data[0], beta=1)\n",
      "test2 = clusterNode(beta_fac=BetaFac,log_const=None, ID=2, x=data[1], beta=1)\n",
      "test3 = clusterNode(beta_fac=BetaFac,log_const=None, ID=2, x=data[2], beta=1)"
     ],
     "language": "python",
     "metadata": {},
     "outputs": [
      {
       "output_type": "stream",
       "stream": "stdout",
       "text": [
        "beta_fac = 2.0\n",
        "x = [0, 3, 0]\n",
        "num = 6.0\n",
        "denom = 120.0\n",
        "beta_fac = 2.0\n",
        "x = [0, 0, 3]\n",
        "num = 6.0\n",
        "denom = 120.0\n",
        "beta_fac = 2.0\n",
        "x = [1, 2, 0]\n",
        "num = 2.0\n",
        "denom = 120.0\n"
       ]
      }
     ],
     "prompt_number": 77
    },
    {
     "cell_type": "code",
     "collapsed": false,
     "input": [
      "print BetaFac\n",
      "print \n",
      "print test1\n",
      "print \n",
      "print test2\n",
      "print \n",
      "print test3"
     ],
     "language": "python",
     "metadata": {},
     "outputs": [
      {
       "output_type": "stream",
       "stream": "stdout",
       "text": [
        "2.0\n",
        "\n",
        "ID=1\n",
        "x=[0 3 0]\n",
        "n=1\n",
        "d=0.001\n",
        "pi=1\n",
        "ml=0.1\n",
        "\n",
        "ID=2\n",
        "x=[0 0 3]\n",
        "n=1\n",
        "d=0.001\n",
        "pi=1\n",
        "ml=0.1\n",
        "\n",
        "ID=2\n",
        "x=[1 2 0]\n",
        "n=1\n",
        "d=0.001\n",
        "pi=1\n",
        "ml=0.1\n"
       ]
      }
     ],
     "prompt_number": 78
    },
    {
     "cell_type": "code",
     "collapsed": false,
     "input": [
      "print test1.log_const\n",
      "print test2.log_const\n",
      "print test3.log_const\n",
      "print test1.log_const + test2.log_const"
     ],
     "language": "python",
     "metadata": {},
     "outputs": [
      {
       "output_type": "stream",
       "stream": "stdout",
       "text": [
        "[0.0]\n",
        "[0.0]\n",
        "[1.0986122886681096]\n",
        "[0.0, 0.0]\n"
       ]
      }
     ],
     "prompt_number": 80
    },
    {
     "cell_type": "code",
     "collapsed": false,
     "input": [
      "test4 = merge_nodes(test1, test2, 1, 1, -1)\n",
      "print test4\n"
     ],
     "language": "python",
     "metadata": {},
     "outputs": [
      {
       "output_type": "stream",
       "stream": "stdout",
       "text": [
        "beta_fac = 1\n",
        "x = [0, 3, 3]\n",
        "num = 4005.0815048\n",
        "denom = 120.615875297\n",
        "ID=-1\n",
        "x=[0 3 3]\n",
        "n=2\n",
        "d=2.000001\n",
        "pi=0.9999995\n",
        "ml=33.205260045\n"
       ]
      }
     ],
     "prompt_number": 81
    },
    {
     "cell_type": "code",
     "collapsed": false,
     "input": [
      "calc_probability(test1, test3, 1, 1)"
     ],
     "language": "python",
     "metadata": {},
     "outputs": [
      {
       "output_type": "stream",
       "stream": "stdout",
       "text": [
        "beta_fac = 1\n",
        "x = [1, 5, 0]\n",
        "num = 24008.4840862\n",
        "denom = 120.615875297\n"
       ]
      },
      {
       "metadata": {},
       "output_type": "pyout",
       "prompt_number": 82,
       "text": [
        "0.99999999999162692"
       ]
      }
     ],
     "prompt_number": 82
    },
    {
     "cell_type": "code",
     "collapsed": false,
     "input": [
      "junk = BHCmultinomial(texts, 1, 1)"
     ],
     "language": "python",
     "metadata": {},
     "outputs": [
      {
       "output_type": "stream",
       "stream": "stdout",
       "text": [
        "2.0\n",
        "(0, 1) 0\n",
        "(0, 2) 0\n",
        "(1, 2) 0\n",
        "(2, -1) 0\n"
       ]
      }
     ],
     "prompt_number": 84
    },
    {
     "cell_type": "code",
     "collapsed": false,
     "input": [
      "print junk"
     ],
     "language": "python",
     "metadata": {},
     "outputs": [
      {
       "output_type": "stream",
       "stream": "stdout",
       "text": [
        "ID=-2\n",
        "x=[1 3 2]\n",
        "n=3\n",
        "d=9\n",
        "pi=0\n",
        "ml=0.0664156019216\n"
       ]
      }
     ],
     "prompt_number": 36
    },
    {
     "cell_type": "code",
     "collapsed": false,
     "input": [
      "print junk.left"
     ],
     "language": "python",
     "metadata": {},
     "outputs": [
      {
       "output_type": "stream",
       "stream": "stdout",
       "text": [
        "ID=2\n",
        "x=[1 1 0]\n",
        "n=1\n",
        "d=1\n",
        "pi=1\n",
        "ml=0.166666666667\n"
       ]
      }
     ],
     "prompt_number": 37
    },
    {
     "cell_type": "code",
     "collapsed": false,
     "input": [
      "print junk.right"
     ],
     "language": "python",
     "metadata": {},
     "outputs": [
      {
       "output_type": "stream",
       "stream": "stdout",
       "text": [
        "ID=-1\n",
        "x=[0 2 2]\n",
        "n=2\n",
        "d=3\n",
        "pi=0\n",
        "ml=0.332360284214\n"
       ]
      }
     ],
     "prompt_number": 42
    },
    {
     "cell_type": "code",
     "collapsed": false,
     "input": [
      "print junk.right.left"
     ],
     "language": "python",
     "metadata": {},
     "outputs": [
      {
       "output_type": "stream",
       "stream": "stdout",
       "text": [
        "ID=0\n",
        "x=[0 2 0]\n",
        "n=1\n",
        "d=1\n",
        "pi=1\n",
        "ml=0.166666666667\n"
       ]
      }
     ],
     "prompt_number": 39
    },
    {
     "cell_type": "code",
     "collapsed": false,
     "input": [
      "print junk.right.right"
     ],
     "language": "python",
     "metadata": {},
     "outputs": [
      {
       "output_type": "stream",
       "stream": "stdout",
       "text": [
        "ID=1\n",
        "x=[0 0 2]\n",
        "n=1\n",
        "d=1\n",
        "pi=1\n",
        "ml=0.166666666667\n"
       ]
      }
     ],
     "prompt_number": 40
    },
    {
     "cell_type": "code",
     "collapsed": false,
     "input": [],
     "language": "python",
     "metadata": {},
     "outputs": []
    }
   ],
   "metadata": {}
  }
 ]
}