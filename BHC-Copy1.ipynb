{
 "metadata": {
  "name": "",
  "signature": "sha256:5c8ea242bf8a163ddf87f0bb06bdc6842e73d41f709029ba256f5e8c744acc68"
 },
 "nbformat": 3,
 "nbformat_minor": 0,
 "worksheets": [
  {
   "cells": [
    {
     "cell_type": "code",
     "collapsed": false,
     "input": [
      "import math\n",
      "import numpy as np\n",
      "import operator as op\n",
      "import scipy as sc\n",
      "from sets import Set\n",
      "from string import punctuation\n",
      "from numba import jit"
     ],
     "language": "python",
     "metadata": {},
     "outputs": []
    },
    {
     "cell_type": "code",
     "collapsed": false,
     "input": [
      "class clusterNode:\n",
      "    def __init__(self,log_beta_fac,left=None,right=None,ID=None,x=None,n=1,ld=0,beta=1,logpi=1,r=0,ll=None,log_const=None):\n",
      "        self.left  = left  # pointer down to left node\n",
      "        self.right = right # pointer down to right node\n",
      "        self.ID    = ID    # node ID\n",
      "        self.x     = x     # total counts of each word across all points in cluster\n",
      "        self.n     = n     # number of data points in node\n",
      "        self.ld    = ld    # log d\n",
      "        self.logpi = logpi # prior probability of merging\n",
      "        self.r     = r     # posterior probability of merging\n",
      "        \n",
      "        # Normalizing constant\n",
      "        if log_const is None:\n",
      "            self.log_const = [math.lgamma(sum(x)+1) - sum([math.lgamma(elem+1) for elem in self.x])]\n",
      "        else:\n",
      "            self.log_const = log_const\n",
      "\n",
      "        # Marginal log-likelihood\n",
      "        if ll is None:\n",
      "            self.ll = (log_beta_fac + sum(self.log_const) + \n",
      "                       sum([math.lgamma(beta+x[j]) for j in range(0,len(self.x))]) - \n",
      "                       math.lgamma(sum(self.x)+len(self.x)*beta))\n",
      "        \n",
      "    def __str__(self):\n",
      "        return \"ID=%s\\nx=%s\\nn=%s\\nld=%s\\nlogpi=%s\\nll=%s\\nr=%s\" % (self.ID, self.x, self.n, self.ld, self.logpi, self.ll, self.r)"
     ],
     "language": "python",
     "metadata": {},
     "outputs": [],
     "prompt_number": 2
    },
    {
     "cell_type": "code",
     "collapsed": false,
     "input": [
      "def merge_nodes(c1, c2, alp, log_beta_fac, r, new_ID):\n",
      "    x_k = c1.x + c2.x\n",
      "    n_k = c1.n + c2.n\n",
      "    \n",
      "    # Note: log(a+b) = log(a) + log(1+exp(log(b)-log(a))) if a > b\n",
      "    temp1 = math.log(alp) + math.lgamma(n_k) \n",
      "    temp2 = c1.ld + c2.ld\n",
      "    \n",
      "    t1 = max(temp1, temp2)\n",
      "    t2 = min(temp1, temp2)\n",
      "    \n",
      "    ld_k    = t1 + math.log(1 + math.exp(t2-t1))\n",
      "    logpi_k = temp1 - ld_k\n",
      "    \n",
      "    log_const_k = c1.log_const + c2.log_const\n",
      "    \n",
      "    return clusterNode(log_beta_fac=log_beta_fac,\n",
      "                       left=c1, \n",
      "                       right=c2, \n",
      "                       ID=new_ID, \n",
      "                       x=x_k, \n",
      "                       n=n_k,\n",
      "                       r=r,\n",
      "                       ld=ld_k,\n",
      "                       logpi=logpi_k,\n",
      "                       log_const = log_const_k)"
     ],
     "language": "python",
     "metadata": {},
     "outputs": [],
     "prompt_number": 3
    },
    {
     "cell_type": "code",
     "collapsed": false,
     "input": [
      "def calc_probability(c1, c2, alp, log_beta_fac):\n",
      "    temp_node = merge_nodes(c1, c2, alp, log_beta_fac, r=0, new_ID=-1)\n",
      "    logpi_k = temp_node.logpi\n",
      "    logll   = temp_node.ll\n",
      "    \n",
      "    temp1 = logpi_k + logll\n",
      "    temp2 = math.log(1-math.exp(logpi_k)) + c1.ll + c2.ll\n",
      "        \n",
      "    t1 = max(temp1, temp2)\n",
      "    t2 = min(temp1, temp2)    \n",
      "    \n",
      "    return math.exp(temp1 - t1 - math.log(1 + math.exp(t2-t1)))"
     ],
     "language": "python",
     "metadata": {},
     "outputs": [],
     "prompt_number": 4
    },
    {
     "cell_type": "code",
     "collapsed": false,
     "input": [
      "def create_word_matrix(docs):\n",
      "    # Define stop words to remove from documents, since these words have little lexographic \n",
      "    # information.  This list is taken from Python's NLTK english stopwords.\n",
      "    stopWords = ['i', 'me', 'my', 'myself', 'we', 'our', 'ours', 'ourselves', 'you', 'your', 'yours', \n",
      "                 'yourself', 'yourselves', 'he', 'him', 'his', 'himself', 'she', 'her', 'hers', \n",
      "                 'herself', 'it', 'its', 'itself', 'they', 'them', 'their', 'theirs', 'themselves', \n",
      "                 'what', 'which', 'who', 'whom', 'this', 'that', 'these', 'those', 'am', 'is', 'are', \n",
      "                 'was', 'were', 'be', 'been', 'being', 'have', 'has', 'had', 'having', 'do', 'does', \n",
      "                 'did', 'doing', 'a', 'an', 'the', 'and', 'but', 'if', 'or', 'because', 'as', 'until', \n",
      "                 'while', 'of', 'at', 'by', 'for', 'with', 'about', 'against', 'between', 'into', \n",
      "                 'through', 'during', 'before', 'after', 'above', 'below', 'to', 'from', 'up', 'down', \n",
      "                 'in', 'out', 'on', 'off', 'over', 'under', 'again', 'further', 'then', 'once', 'here', \n",
      "                 'there', 'when', 'where', 'why', 'how', 'all', 'any', 'both', 'each', 'few', 'more', \n",
      "                 'most', 'other', 'some', 'such', 'no', 'nor', 'not', 'only', 'own', 'same', 'so', \n",
      "                 'than', 'too', 'very', 's', 't', 'can', 'will', 'just', 'don', 'should', 'now']\n",
      "    \n",
      "    # Create list of words\n",
      "    # First split possessive (\"Bill's) into separate 's' for later removal with stopWords\n",
      "    # Then update set of words for each word in consecutive document\n",
      "    words = Set()\n",
      "    [words.update(new_doc) for doc in docs for new_doc in [str(doc.split(\"'\")).translate(None,punctuation).lower().split()]]\n",
      "\n",
      "    # Remove stop words from set of words found in all documents\n",
      "    [words.discard(w) for w in stopWords]\n",
      "    \n",
      "    # Create array where each row contains the count of \n",
      "    # each unique word from all documents\n",
      "    words = sorted(list(words))\n",
      "    return (words, \n",
      "            np.array([[item.count(w) for w in words] for doc in docs for item in [str(doc.split(\"'\")).translate(None,punctuation).lower().split()]]))"
     ],
     "language": "python",
     "metadata": {},
     "outputs": [],
     "prompt_number": 5
    },
    {
     "cell_type": "code",
     "collapsed": false,
     "input": [
      "def BHCmultinomial(texts, alpha, beta):\n",
      "    possible_merge = {}\n",
      "    R = {}\n",
      "    currentclustid = -1\n",
      "    \n",
      "    # Convert text data into \"bag of words\" n x p matrix with n documents \n",
      "    # and p different words contained in all documents\n",
      "    \n",
      "    words, word_data = create_word_matrix(texts)\n",
      "\n",
      "    # Calculate factor that is a function of the beta prior\n",
      "    p = len(words)\n",
      "    lBetaFac = math.lgamma(sum(beta*np.ones(p))) - sum([math.lgamma(beta) for i in np.arange(p)])\n",
      "    \n",
      "    # clusters are initially just the individual rows\n",
      "    clust = [clusterNode(log_beta_fac = lBetaFac, \n",
      "                         log_const = None,\n",
      "                         ID = i, \n",
      "                         x = word_data[i],\n",
      "                         beta = beta,\n",
      "                         ld = math.log(alpha)) for i in range(len(word_data))]\n",
      "    \n",
      "    while len(clust)>1:\n",
      "        closest = float(\"-inf\")\n",
      "\n",
      "        # loop through every pair looking for the smallest distance\n",
      "        for i in range(len(clust)):\n",
      "            for j in range(i+1,len(clust)):\n",
      "                # R is the cache of probability calculations\n",
      "                if (clust[i].ID,clust[j].ID) not in possible_merge: \n",
      "                    R[(clust[i].ID,clust[j].ID)] = calc_probability(c1 = clust[i], \n",
      "                                                                    c2 = clust[j], \n",
      "                                                                    alp = alpha,\n",
      "                                                                    log_beta_fac = lBetaFac)\n",
      "                    \n",
      "                r_k = R[(clust[i].ID,clust[j].ID)]\n",
      "\n",
      "                #print (clust[i].ID,clust[j].ID), r_k\n",
      "                \n",
      "                if r_k > closest:\n",
      "                    closest = r_k\n",
      "                    lowestpair = (i,j)\n",
      "\n",
      "        # create the new cluster\n",
      "        newcluster = merge_nodes(clust[lowestpair[0]], clust[lowestpair[1]],\n",
      "                                 alp=alpha, log_beta_fac=lBetaFac, r = closest,\n",
      "                                 new_ID = currentclustid)\n",
      "\n",
      "        # cluster ids that weren't in the original set are negative\n",
      "        currentclustid-=1\n",
      "        del clust[lowestpair[1]]\n",
      "        del clust[lowestpair[0]]\n",
      "        clust.append(newcluster)\n",
      "\n",
      "    return clust[0]"
     ],
     "language": "python",
     "metadata": {},
     "outputs": [],
     "prompt_number": 6
    },
    {
     "cell_type": "code",
     "collapsed": false,
     "input": [
      "texts = [str(\"Cat cat cat cat dog dog cat dog cat cat\"), \n",
      "         str(\"This is neither a hard or difficult cat test using photos!\"),\n",
      "         str(\"Cat cat cat cat dog dog dog dog\")]\n",
      "\n",
      "#texts = [str(\"Cat cat cat\"), \n",
      "#         str(\"Dog dog dog\"),\n",
      "#         str(\"Cat bird cat\")]\n",
      "\n",
      "\n",
      "text_words, data = create_word_matrix(texts)\n",
      "print text_words\n",
      "print data\n",
      "print len(text_words)"
     ],
     "language": "python",
     "metadata": {},
     "outputs": [
      {
       "output_type": "stream",
       "stream": "stdout",
       "text": [
        "['cat', 'difficult', 'dog', 'hard', 'neither', 'photos', 'test', 'using']\n",
        "[[7 0 3 0 0 0 0 0]\n",
        " [1 1 0 1 1 1 1 1]\n",
        " [4 0 4 0 0 0 0 0]]\n",
        "8\n"
       ]
      }
     ],
     "prompt_number": 7
    },
    {
     "cell_type": "code",
     "collapsed": false,
     "input": [
      "p = len(text_words)\n",
      "beta = 1.00\n",
      "lBetaFac = math.lgamma(sum(beta*np.ones(p))) - sum([math.lgamma(beta) for i in np.arange(p)])\n",
      "\n",
      "test1 = clusterNode(log_beta_fac=lBetaFac,log_const=None, ID=1, x=data[0], beta=1, ld=0)\n",
      "test2 = clusterNode(log_beta_fac=lBetaFac,log_const=None, ID=2, x=data[1], beta=1, ld=0)\n",
      "test3 = clusterNode(log_beta_fac=lBetaFac,log_const=None, ID=2, x=data[2], beta=1, ld=0)"
     ],
     "language": "python",
     "metadata": {},
     "outputs": [],
     "prompt_number": 8
    },
    {
     "cell_type": "code",
     "collapsed": false,
     "input": [
      "print lBetaFac\n",
      "print \n",
      "print test1\n",
      "print \n",
      "print test3"
     ],
     "language": "python",
     "metadata": {},
     "outputs": [
      {
       "output_type": "stream",
       "stream": "stdout",
       "text": [
        "8.52516136107\n",
        "\n",
        "ID=1\n",
        "x=[7 0 3 0 0 0 0 0]\n",
        "n=1\n",
        "ld=0\n",
        "logpi=1\n",
        "ll=-9.875499516\n",
        "r=0\n",
        "\n",
        "ID=2\n",
        "x=[4 0 4 0 0 0 0 0]\n",
        "n=1\n",
        "ld=0\n",
        "logpi=1\n",
        "ll=-8.76950712003\n",
        "r=0\n"
       ]
      }
     ],
     "prompt_number": 9
    },
    {
     "cell_type": "code",
     "collapsed": false,
     "input": [
      "test4 = merge_nodes(test1, test3, alp=1, log_beta_fac=lBetaFac, r=calc_probability(test1, test3,alp=1, log_beta_fac=lBetaFac), new_ID=-1)\n",
      "print \n",
      "print test4"
     ],
     "language": "python",
     "metadata": {},
     "outputs": [
      {
       "output_type": "stream",
       "stream": "stdout",
       "text": [
        "\n",
        "ID=-1\n",
        "x=[11  0  7  0  0  0  0  0]\n",
        "n=2\n",
        "ld=0.69314718056\n",
        "logpi=-0.69314718056\n",
        "ll=-14.4149876701\n",
        "r=0.985656612072\n"
       ]
      }
     ],
     "prompt_number": 11
    },
    {
     "cell_type": "code",
     "collapsed": false,
     "input": [
      "test5 = merge_nodes(test1, test2, alp=1, log_beta_fac=lBetaFac, r=calc_probability(test1, test2,alp=1, log_beta_fac=lBetaFac), new_ID=-1)\n",
      "print \n",
      "print test5"
     ],
     "language": "python",
     "metadata": {},
     "outputs": [
      {
       "output_type": "stream",
       "stream": "stdout",
       "text": [
        "\n",
        "ID=-1\n",
        "x=[8 1 3 1 1 1 1 1]\n",
        "n=2\n",
        "ld=0.69314718056\n",
        "logpi=-0.69314718056\n",
        "ll=-20.5505525612\n",
        "r=0.0734982332155\n"
       ]
      }
     ],
     "prompt_number": 12
    },
    {
     "cell_type": "code",
     "collapsed": false,
     "input": [
      "test6 = merge_nodes(test2, test3, alp=1, log_beta_fac=lBetaFac, r=calc_probability(test2, test3,alp=1, log_beta_fac=lBetaFac), new_ID=-1)\n",
      "print \n",
      "print test6"
     ],
     "language": "python",
     "metadata": {},
     "outputs": [
      {
       "output_type": "stream",
       "stream": "stdout",
       "text": [
        "\n",
        "ID=-1\n",
        "x=[5 1 4 1 1 1 1 1]\n",
        "n=2\n",
        "ld=0.69314718056\n",
        "logpi=-0.69314718056\n",
        "ll=-19.2068178145\n",
        "r=0.0914205344585\n"
       ]
      }
     ],
     "prompt_number": 13
    },
    {
     "cell_type": "code",
     "collapsed": false,
     "input": [
      "test7 = merge_nodes(test4, test2, alp=1, log_beta_fac=lBetaFac, r=calc_probability(test4, test2,alp=1, log_beta_fac=lBetaFac), new_ID=-1)\n",
      "print \n",
      "print test7"
     ],
     "language": "python",
     "metadata": {},
     "outputs": [
      {
       "output_type": "stream",
       "stream": "stdout",
       "text": [
        "\n",
        "ID=-1\n",
        "x=[12  1  7  1  1  1  1  1]\n",
        "n=3\n",
        "ld=1.38629436112\n",
        "logpi=-0.69314718056\n",
        "ll=-26.9592738924\n",
        "r=0.0120879120879\n"
       ]
      }
     ],
     "prompt_number": 14
    },
    {
     "cell_type": "code",
     "collapsed": false,
     "input": [
      "junk = BHCmultinomial(texts, 0.1, 0.1)"
     ],
     "language": "python",
     "metadata": {},
     "outputs": [],
     "prompt_number": 29
    },
    {
     "cell_type": "code",
     "collapsed": false,
     "input": [
      "print junk"
     ],
     "language": "python",
     "metadata": {},
     "outputs": [
      {
       "output_type": "stream",
       "stream": "stdout",
       "text": [
        "ID=-2\n",
        "x=[12  1  7  1  1  1  1  1]\n",
        "n=3\n",
        "ld=-1.55589714551\n",
        "logpi=-0.053540766928\n",
        "ll=-53.354076789\n",
        "r=0.857557387278\n"
       ]
      }
     ],
     "prompt_number": 30
    },
    {
     "cell_type": "code",
     "collapsed": false,
     "input": [
      "print junk.left"
     ],
     "language": "python",
     "metadata": {},
     "outputs": [
      {
       "output_type": "stream",
       "stream": "stdout",
       "text": [
        "ID=0\n",
        "x=[7 0 3 0 0 0 0 0]\n",
        "n=1\n",
        "ld=-2.30258509299\n",
        "logpi=1\n",
        "ll=-6.64718288403\n",
        "r=0\n"
       ]
      }
     ],
     "prompt_number": 31
    },
    {
     "cell_type": "code",
     "collapsed": false,
     "input": [
      "print junk.right"
     ],
     "language": "python",
     "metadata": {},
     "outputs": [
      {
       "output_type": "stream",
       "stream": "stdout",
       "text": [
        "ID=-1\n",
        "x=[5 1 4 1 1 1 1 1]\n",
        "n=2\n",
        "ld=-2.20727491319\n",
        "logpi=-0.0953101798043\n",
        "ll=-45.6016207111\n",
        "r=5.68919690715e-10\n"
       ]
      }
     ],
     "prompt_number": 32
    },
    {
     "cell_type": "code",
     "collapsed": false,
     "input": [
      "print junk.right.left"
     ],
     "language": "python",
     "metadata": {},
     "outputs": [
      {
       "output_type": "stream",
       "stream": "stdout",
       "text": [
        "ID=1\n",
        "x=[1 1 0 1 1 1 1 1]\n",
        "n=1\n",
        "ld=-2.30258509299\n",
        "logpi=1\n",
        "ll=-15.565594335\n",
        "r=0\n"
       ]
      }
     ],
     "prompt_number": 33
    },
    {
     "cell_type": "code",
     "collapsed": false,
     "input": [
      "print junk.right.right"
     ],
     "language": "python",
     "metadata": {},
     "outputs": [
      {
       "output_type": "stream",
       "stream": "stdout",
       "text": [
        "ID=2\n",
        "x=[4 0 4 0 0 0 0 0]\n",
        "n=1\n",
        "ld=-2.30258509299\n",
        "logpi=1\n",
        "ll=-6.44615945073\n",
        "r=0\n"
       ]
      }
     ],
     "prompt_number": 34
    },
    {
     "cell_type": "code",
     "collapsed": false,
     "input": [
      "# Code adapted from \"Programming Collective Intelligence\" by Toby Segaran (O'Reilly Media 2007)\n",
      "\n",
      "from PIL import Image,ImageDraw\n",
      "\n",
      "def getheight(clust):\n",
      "    if clust.left == None and clust.right == None:\n",
      "        return 1\n",
      "    else:\n",
      "        return getheight(clust.left) + getheight(clust.right)\n",
      "    \n",
      "def getdepth(clust):\n",
      "    if clust.left == None and clust.right == None:\n",
      "        return 0\n",
      "    else:\n",
      "        return max(getdepth(clust.left),getdepth(clust.right)) + 1\n",
      "    \n",
      "\n",
      "def draw_dendrogram(clust,cutoff,jpeg='clusters.png'):\n",
      "    # height and width\n",
      "    h = getheight(clust)*50\n",
      "    #w = getdepth(clust)*300\n",
      "    #w=1200\n",
      "    w = h\n",
      "    depth=getdepth(clust)\n",
      "\n",
      "    #print h, w, depth\n",
      "    \n",
      "    # width is fixed, so scale distances accordingly\n",
      "    #scaling=float(w-150)/depth\n",
      "    scaling = 5\n",
      "\n",
      "    # Create a new image with a white background\n",
      "    img=Image.new('RGB',(w,h),(255,255,255))\n",
      "    draw=ImageDraw.Draw(img)\n",
      "\n",
      "    if clust.r < cutoff:\n",
      "        col = (255,0,0)\n",
      "    else:\n",
      "        col = (0,0,0)\n",
      "    \n",
      "    draw.line((0,h/2,10,h/2),fill=col)    \n",
      "\n",
      "    # Draw the first node\n",
      "    draw_node(draw,clust,cutoff,10,(h/2),scaling,img)\n",
      "    img.save(jpeg)\n",
      "\n",
      "def draw_node(draw,clust,cutoff,x,y,scaling,img):\n",
      "    if clust.ID<0:\n",
      "        #h1=getheight(clust.left)*20\n",
      "        #h2=getheight(clust.right)*20\n",
      "        h1=getheight(clust.left)*50\n",
      "        h2=getheight(clust.right)*50\n",
      "        top=y-(h1+h2)/2\n",
      "        bottom=y+(h1+h2)/2\n",
      "        # Line length\n",
      "        #ll=clust.distance*scaling\n",
      "        ll=10*scaling\n",
      "        \n",
      "        #print clust.r\n",
      "        if(clust.r < cutoff):\n",
      "            col=(255,0,0)\n",
      "        else:\n",
      "            col=(0,0,0)\n",
      "        \n",
      "        # Vertical line from this cluster to children    \n",
      "        draw.line((x,top+h1/2,x,bottom-h2/2),fill=col)   \n",
      "\n",
      "        # Horizontal line to left item\n",
      "        draw.line((x,top+h1/2,x+ll,top+h1/2),fill=col)    \n",
      "\n",
      "        # Horizontal line to right item\n",
      "        draw.line((x,bottom-h2/2,x+ll,bottom-h2/2),fill=col)\n",
      "\n",
      "        # Call the function to draw the left and right nodes    \n",
      "        draw_node(draw,clust.left,cutoff,x+ll,top+h1/2,scaling,img)\n",
      "        draw_node(draw,clust.right,cutoff,x+ll,bottom-h2/2,scaling,img)\n",
      "    else:   \n",
      "        # If this is an endpoint, write the cluster ID onto the image\n",
      "        draw.text((x+5,y-5),str(clust.ID),fill=(0,0,0))"
     ],
     "language": "python",
     "metadata": {},
     "outputs": [],
     "prompt_number": 36
    },
    {
     "cell_type": "code",
     "collapsed": false,
     "input": [
      "draw_dendrogram(junk,cutoff=0.5)"
     ],
     "language": "python",
     "metadata": {},
     "outputs": [],
     "prompt_number": 37
    },
    {
     "cell_type": "code",
     "collapsed": false,
     "input": [
      "from IPython.display import Image\n",
      "\n",
      "Image(filename='clusters.png')"
     ],
     "language": "python",
     "metadata": {},
     "outputs": [
      {
       "metadata": {},
       "output_type": "pyout",
       "png": "[encoded data removed]",
       "prompt_number": 38,
       "text": [
        "<IPython.core.display.Image at 0x7fc0ca06c950>"
       ]
      }
     ],
     "prompt_number": 38
    },
    {
     "cell_type": "code",
     "collapsed": false,
     "input": [],
     "language": "python",
     "metadata": {},
     "outputs": []
    }
   ],
   "metadata": {}
  }
 ]
}