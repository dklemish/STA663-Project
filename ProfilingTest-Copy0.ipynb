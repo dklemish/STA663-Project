{
 "metadata": {
  "name": "",
  "signature": "sha256:f6da25dfafca1108da865a5348dc0441c88b778911168cfca8c2fcbb6f807bcc"
 },
 "nbformat": 3,
 "nbformat_minor": 0,
 "worksheets": [
  {
   "cells": [
    {
     "cell_type": "code",
     "collapsed": false,
     "input": [
      "import bhc"
     ],
     "language": "python",
     "metadata": {},
     "outputs": [],
     "prompt_number": 1
    },
    {
     "cell_type": "code",
     "collapsed": false,
     "input": [
      "texts = [open('Text1.txt', 'r').read().replace('\\r\\n', ' '), \n",
      "         open('Text2.txt', 'r').read().replace('\\r\\n', ' '),\n",
      "         open('Text3.txt', 'r').read().replace('\\r\\n', ' '),\n",
      "         open('Text4.txt', 'r').read().replace('\\r\\n', ' '),\n",
      "         open('Text5.txt', 'r').read().replace('\\r\\n', ' '),\n",
      "         open('Text6.txt', 'r').read().replace('\\r\\n', ' '),\n",
      "         open('Text7.txt', 'r').read().replace('\\r\\n', ' '),\n",
      "         open('Text8.txt', 'r').read().replace('\\r\\n', ' '),\n",
      "         open('Text9.txt', 'r').read().replace('\\r\\n', ' '),\n",
      "         open('Text10.txt', 'r').read().replace('\\r\\n', ' '),\n",
      "         open('Text11.txt', 'r').read().replace('\\r\\n', ' '),\n",
      "         open('Text12.txt', 'r').read().replace('\\r\\n', ' '),\n",
      "         open('Text13.txt', 'r').read().replace('\\r\\n', ' '),\n",
      "         open('Text14.txt', 'r').read().replace('\\r\\n', ' '),\n",
      "         open('Text15.txt', 'r').read().replace('\\r\\n', ' '),\n",
      "         open('Text16.txt', 'r').read().replace('\\r\\n', ' ')]\n",
      "\n",
      "text_words, data = bhc.create_word_matrix(texts)\n",
      "#print text_words\n",
      "#print data\n",
      "print len(text_words)"
     ],
     "language": "python",
     "metadata": {},
     "outputs": [
      {
       "output_type": "stream",
       "stream": "stdout",
       "text": [
        "9592\n"
       ]
      }
     ],
     "prompt_number": 2
    },
    {
     "cell_type": "code",
     "collapsed": false,
     "input": [
      "stats = %prun -r -q junk = bhc.BHCmultinomial(texts, 1, 1)"
     ],
     "language": "python",
     "metadata": {},
     "outputs": [
      {
       "output_type": "stream",
       "stream": "stdout",
       "text": [
        " "
       ]
      }
     ],
     "prompt_number": 3
    },
    {
     "cell_type": "code",
     "collapsed": false,
     "input": [
      "stats.sort_stats('time').print_stats(10);"
     ],
     "language": "python",
     "metadata": {},
     "outputs": [
      {
       "output_type": "stream",
       "stream": "stdout",
       "text": [
        "         7153303 function calls in 24.991 seconds\n",
        "\n",
        "   Ordered by: internal time\n",
        "   List reduced from 36 to 10 due to restriction <10>\n",
        "\n",
        "   ncalls  tottime  percall  cumtime  percall filename:lineno(function)\n",
        "   153472   19.703    0.000   19.703    0.000 {method 'count' of 'list' objects}\n",
        "      711    3.319    0.005    5.093    0.007 bhc.py:9(__init__)\n",
        "  6984399    0.944    0.000    0.944    0.000 {math.lgamma}\n",
        "     2167    0.793    0.000    0.793    0.000 {sum}\n",
        "        1    0.095    0.095   19.847   19.847 bhc.py:77(create_word_matrix)\n",
        "      862    0.039    0.000    0.039    0.000 {range}\n",
        "      695    0.027    0.000    4.912    0.007 bhc.py:35(merge_nodes)\n",
        "       64    0.017    0.000    0.017    0.000 {method 'split' of 'str' objects}\n",
        "       16    0.016    0.001    0.016    0.001 sets.py:341(_update)\n",
        "        1    0.012    0.012   24.991   24.991 bhc.py:109(BHCmultinomial)\n",
        "\n",
        "\n"
       ]
      }
     ],
     "prompt_number": 4
    },
    {
     "cell_type": "code",
     "collapsed": false,
     "input": [
      "bhc.draw_dendrogram(junk,cutoff=0.5)"
     ],
     "language": "python",
     "metadata": {},
     "outputs": [],
     "prompt_number": 9
    },
    {
     "cell_type": "code",
     "collapsed": false,
     "input": [
      "from IPython.display import Image\n",
      "\n",
      "Image(filename='clusters.png')"
     ],
     "language": "python",
     "metadata": {},
     "outputs": [
      {
       "metadata": {},
       "output_type": "pyout",
       "png": "[encoded data removed]",
       "prompt_number": 10,
       "text": [
        "<IPython.core.display.Image at 0x7f5df35e6250>"
       ]
      }
     ],
     "prompt_number": 10
    },
    {
     "cell_type": "code",
     "collapsed": false,
     "input": [],
     "language": "python",
     "metadata": {},
     "outputs": []
    }
   ],
   "metadata": {}
  }
 ]
}